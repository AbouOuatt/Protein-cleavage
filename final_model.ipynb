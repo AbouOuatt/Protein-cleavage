{
 "cells": [
  {
   "cell_type": "code",
   "execution_count": 2,
   "metadata": {},
   "outputs": [],
   "source": [
    "import pandas as pd # type: ignore\n",
    "import numpy as np # type: ignore\n",
    "from sklearn.model_selection import train_test_split # type: ignore\n",
    "from sklearn.svm import SVC # type: ignore\n",
    "from sklearn.metrics import accuracy_score, precision_score, recall_score, f1_score # type: ignore\n",
    "import time\n"
   ]
  },
  {
   "cell_type": "code",
   "execution_count": 3,
   "metadata": {},
   "outputs": [],
   "source": [
    "def preprocess_data(files):\n",
    "    train_dataframes = []\n",
    "    test_dataframes = []\n",
    "    for file in files:\n",
    "        with open(file, 'r') as f:\n",
    "            lines = f.readlines()\n",
    "            sequences = lines[1::3]  # Sélectionner les lignes des séquences\n",
    "            annotations = lines[2::3]  # Sélectionner les lignes des annotations\n",
    "            df = pd.DataFrame({'Sequence': sequences, 'Annotation': annotations})\n",
    "            # Diviser les données en ensembles d'entraînement et de test\n",
    "            train_df, test_df = train_test_split(df, test_size=0.2, random_state=42)\n",
    "            train_dataframes.append(train_df)\n",
    "            test_dataframes.append(test_df)\n",
    "    train_data = pd.concat(train_dataframes)\n",
    "    test_data = pd.concat(test_dataframes)\n",
    "    return train_data, test_data\n",
    "\n",
    "def extract_test_data(test_data, num_files):\n",
    "    test_dataframes = []\n",
    "    start_index = 0\n",
    "    for _ in range(num_files):\n",
    "        end_index = start_index + len(test_data) // num_files\n",
    "        test_dataframes.append(test_data.iloc[start_index:end_index])\n",
    "        start_index = end_index\n",
    "    return test_dataframes\n",
    "\n",
    "\n",
    "# Encodage one-hot des séquences\n",
    "def one_hot_encoding(sequence):\n",
    "    amino_acids = 'ACDEFGHIKLMNPQRSTVWY'\n",
    "    one_hot = np.zeros((len(sequence), len(amino_acids)))\n",
    "    for i, aa in enumerate(sequence):\n",
    "        if aa in amino_acids:\n",
    "            one_hot[i, amino_acids.index(aa)] = 1\n",
    "    return one_hot.flatten()\n",
    "\n",
    "# Extraction des caractéristiques\n",
    "def extract_features(df, p=13, q=2):\n",
    "    features = []\n",
    "    labels = []\n",
    "    for index, row in df.iterrows():\n",
    "        sequence = row['Sequence']\n",
    "        annotation = row['Annotation']\n",
    "        for i in range(len(sequence) - p - q + 1):\n",
    "            neighborhood = sequence[i:i+p+q]\n",
    "            encoded_neighborhood = one_hot_encoding(neighborhood)\n",
    "            label = 1 if 'C' in annotation[i:i+p+q] else 0\n",
    "            features.append(encoded_neighborhood)\n",
    "            labels.append(label)\n",
    "    return features, labels\n"
   ]
  },
  {
   "cell_type": "code",
   "execution_count": 4,
   "metadata": {},
   "outputs": [],
   "source": [
    "\n",
    "# Entraînement et évaluation\n",
    "def train_and_evaluate(X_train, X_test, y_train, y_test, kernel='rbf'):\n",
    "    svm = SVC(kernel=kernel)\n",
    "    svm.fit(X_train, y_train)\n",
    "    y_pred = svm.predict(X_test)\n",
    "    accuracy = accuracy_score(y_test, y_pred)\n",
    "    precision = precision_score(y_test, y_pred)\n",
    "    recall = recall_score(y_test, y_pred)\n",
    "    f1 = f1_score(y_test, y_pred)\n",
    "    return accuracy, precision, recall, f1\n"
   ]
  },
  {
   "cell_type": "code",
   "execution_count": 5,
   "metadata": {},
   "outputs": [],
   "source": [
    "# Optimisation des paramètres\n",
    "def optimize_parameters( df, kernels, p_values, q_values):\n",
    "    best_accuracy = 0\n",
    "    best_params = {'kernel': None, 'p': None, 'q': None}\n",
    "    \n",
    "    for p in p_values:\n",
    "        for q in q_values:\n",
    "            \n",
    "            features, labels = extract_features(df, p, q)\n",
    "            X_train, X_test, y_train, y_test = train_test_split(features, labels, test_size=0.1, random_state=42)\n",
    "            for kernel in kernels:\n",
    "                accuracy, _, _, _= train_and_evaluate(X_train, X_test, y_train, y_test, kernel)\n",
    "                if accuracy > best_accuracy:\n",
    "                    best_accuracy = accuracy\n",
    "                    best_params = {'kernel': kernel, 'p': p, 'q': q}\n",
    "          \n",
    "        \n",
    "\n",
    "    return best_params, best_accuracy"
   ]
  },
  {
   "cell_type": "code",
   "execution_count": 6,
   "metadata": {},
   "outputs": [],
   "source": [
    "# Chemins vers les fichiers .red\n",
    "files =  [\"/home/ouattara_aboubakar/PROJET 442/p2-protein-cleavage/data/EUKSIG_13.red\", \"/home/ouattara_aboubakar/PROJET 442/p2-protein-cleavage/data/GRAM-SIG_13.red\", \"/home/ouattara_aboubakar/PROJET 442/p2-protein-cleavage/data/GRAM+SIG_13.red\"]\n",
    "\n",
    "# Prétraitement des données\n",
    "df_train, df_test = preprocess_data(files)\n",
    "\n",
    "num_files = len(files)  # Nombre de fichiers\n",
    "test_dataframes = extract_test_data(df_test, num_files)\n",
    "\n",
    "# Valeurs de p et q à tester\n",
    "p_plage = range(7,18, 2)\n",
    "q_plage = range(2,7, 1)\n",
    "\n",
    "# Noyaux SVM à tester\n",
    "kernels = ['linear', 'poly', 'rbf']"
   ]
  },
  {
   "cell_type": "code",
   "execution_count": 7,
   "metadata": {},
   "outputs": [
    {
     "name": "stderr",
     "output_type": "stream",
     "text": [
      "/home/ouattara_aboubakar/.local/lib/python3.10/site-packages/sklearn/metrics/_classification.py:1509: UndefinedMetricWarning: Precision is ill-defined and being set to 0.0 due to no predicted samples. Use `zero_division` parameter to control this behavior.\n",
      "  _warn_prf(average, modifier, f\"{metric.capitalize()} is\", len(result))\n",
      "/home/ouattara_aboubakar/.local/lib/python3.10/site-packages/sklearn/metrics/_classification.py:1509: UndefinedMetricWarning: Precision is ill-defined and being set to 0.0 due to no predicted samples. Use `zero_division` parameter to control this behavior.\n",
      "  _warn_prf(average, modifier, f\"{metric.capitalize()} is\", len(result))\n"
     ]
    }
   ],
   "source": [
    "# Optimisation des paramètres\n",
    "\n",
    "best_params, best_accuracy = optimize_parameters(df_train, kernels, p_values=p_plage, q_values=q_plage)\n",
    "\n"
   ]
  },
  {
   "cell_type": "code",
   "execution_count": 33,
   "metadata": {},
   "outputs": [
    {
     "name": "stdout",
     "output_type": "stream",
     "text": [
      "Meilleur kernel: poly\n",
      "Meilleur p: 7\n",
      "Meilleur q: 2\n",
      "Meilleure précision: 0.8383437322745321\n"
     ]
    }
   ],
   "source": [
    "print(\"Meilleur kernel:\", best_params['kernel'])\n",
    "print(\"Meilleur p:\", best_params['p'])\n",
    "print(\"Meilleur q:\", best_params['q'])\n",
    "print(\"Meilleure précision:\", best_accuracy)"
   ]
  },
  {
   "cell_type": "code",
   "execution_count": 9,
   "metadata": {},
   "outputs": [],
   "source": [
    "def predict_single_site(sequence, model, p, q):\n",
    "    site = None\n",
    "    for i in range(len(sequence) - p - q + 1):\n",
    "        neighborhood = sequence[i:i+p+q]\n",
    "        encoded_neighborhood = one_hot_encoding(neighborhood)\n",
    "        prediction = model.predict([encoded_neighborhood])[0]\n",
    "        if prediction == 1:\n",
    "            site = i + p + 2  # Ajouter le décalage pour obtenir la position du site de clivage\n",
    "            break  # Arrêter dès qu'un site de clivage est trouvé\n",
    "    return site"
   ]
  },
  {
   "cell_type": "code",
   "execution_count": 10,
   "metadata": {},
   "outputs": [],
   "source": [
    "X, y = extract_features(df_train, best_params['p'], best_params['q'])"
   ]
  },
  {
   "cell_type": "code",
   "execution_count": 34,
   "metadata": {},
   "outputs": [
    {
     "name": "stdout",
     "output_type": "stream",
     "text": [
      "time =  0.9442927837371826\n",
      "accuracy train 0.8612593383137673\n",
      "precision 0.7857142857142857\n",
      "recall 0.2716049382716049\n",
      "f1 0.4036697247706422\n"
     ]
    }
   ],
   "source": [
    "best_kernel =  best_params['kernel'] # Choisissez le meilleur noyau en fonction des résultats précédents\n",
    "X_train, X_test, y_train, y_test = train_test_split(X, y, test_size=0.2, random_state=42)\n",
    "best_model = SVC(kernel=best_kernel)\n",
    "start_time = time.time()\n",
    "best_model.fit(X_train, y_train)\n",
    "end_time = time.time()\n",
    "training_time = end_time - start_time\n",
    "\n",
    "y_pred = best_model .predict(X_test)\n",
    "accuracy = accuracy_score(y_test, y_pred)\n",
    "precision = precision_score(y_test, y_pred)\n",
    "recall = recall_score(y_test, y_pred)\n",
    "f1 = f1_score(y_test, y_pred)\n",
    "\n",
    "\n",
    "print('time = ', training_time)\n",
    "print(\"accuracy train\", accuracy)\n",
    "print(\"precision\", precision)\n",
    "print(\"recall\", recall)\n",
    "print(\"f1\", f1)\n"
   ]
  },
  {
   "cell_type": "code",
   "execution_count": 35,
   "metadata": {},
   "outputs": [
    {
     "name": "stdout",
     "output_type": "stream",
     "text": [
      "Accuracy for Euk: 0.805119926199262\n",
      "Precision for Euk: 0.5084745762711864\n",
      "Recall for Euk: 0.03546099290780142\n",
      "F1-score for Euk: 0.06629834254143646\n",
      "--------------------------------------------------------------\n",
      "\n",
      "\n",
      "Accuracy for Gneg: 0.8020713463751439\n",
      "Precision for Gneg: 0.38333333333333336\n",
      "Recall for Gneg: 0.027186761229314422\n",
      "F1-score for Gneg: 0.05077262693156733\n",
      "--------------------------------------------------------------\n",
      "\n",
      "\n",
      "Accuracy for Gpos: 0.9692439128577531\n",
      "Precision for Gpos: 0.9821428571428571\n",
      "Recall for Gpos: 0.8451536643026005\n",
      "F1-score for Gpos: 0.9085133418043202\n",
      "--------------------------------------------------------------\n",
      "\n",
      "\n"
     ]
    }
   ],
   "source": [
    "file_names = [\"Euk\", \"Gneg\", \"Gpos\"] \n",
    "# Boucle sur les précisions et les noms des organismes  correspondants\n",
    "for i in range(num_files):\n",
    "    X, y = extract_features(test_dataframes[i], best_params['p'], best_params['q'])\n",
    "    y_pred = best_model.predict(X)\n",
    "    accuracy = accuracy_score(y, y_pred)\n",
    "    precision = precision_score(y, y_pred)\n",
    "    recall = recall_score(y, y_pred)\n",
    "    f1 = f1_score(y, y_pred)\n",
    "    print(f\"Accuracy for {file_names[i]}: {accuracy}\")\n",
    "    print(f\"Precision for {file_names[i]}: {precision}\")\n",
    "    print(f\"Recall for {file_names[i]}: {recall}\")\n",
    "    print(f\"F1-score for {file_names[i]}: {f1}\")\n",
    "    print(\"--------------------------------------------------------------\")\n",
    "    print(\"\\n\")"
   ]
  },
  {
   "cell_type": "code",
   "execution_count": 51,
   "metadata": {},
   "outputs": [
    {
     "name": "stdout",
     "output_type": "stream",
     "text": [
      "Site de clivage prédit: 34\n"
     ]
    }
   ],
   "source": [
    "sequence = 'MKKKTLSLFVGLMLLIGLLFSGSLPYNPNAAEASSSASVKGDVIYQIIIDRFYDGDTTNNNPA'\n",
    "site = predict_single_site(sequence, best_model, best_params['p'], best_params['q'])\n",
    "print(\"Site de clivage prédit:\", site)"
   ]
  },
  {
   "cell_type": "code",
   "execution_count": 52,
   "metadata": {},
   "outputs": [
    {
     "name": "stdout",
     "output_type": "stream",
     "text": [
      "34\n"
     ]
    }
   ],
   "source": [
    "mot = 'SSSSSSSSSSSSSSSSSSSSSSSSSSSSSSSSSC'\n",
    "print(len(mot))"
   ]
  },
  {
   "cell_type": "code",
   "execution_count": 20,
   "metadata": {},
   "outputs": [
    {
     "name": "stdout",
     "output_type": "stream",
     "text": [
      "15\n"
     ]
    }
   ],
   "source": [
    "print(len(range(15)))"
   ]
  }
 ],
 "metadata": {
  "kernelspec": {
   "display_name": "Python 3",
   "language": "python",
   "name": "python3"
  },
  "language_info": {
   "codemirror_mode": {
    "name": "ipython",
    "version": 3
   },
   "file_extension": ".py",
   "mimetype": "text/x-python",
   "name": "python",
   "nbconvert_exporter": "python",
   "pygments_lexer": "ipython3",
   "version": "3.10.12"
  }
 },
 "nbformat": 4,
 "nbformat_minor": 2
}
